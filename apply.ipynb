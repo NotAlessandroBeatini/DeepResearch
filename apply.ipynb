{
 "cells": [
  {
   "cell_type": "code",
   "execution_count": 1,
   "id": "eaacdbf0",
   "metadata": {},
   "outputs": [],
   "source": [
    "import requests\n",
    "import hmac, hashlib\n",
    "\n",
    "# Step 1: generate primes up to 1000\n",
    "def primes_upto(n):\n",
    "    sieve = [True]*(n+1)\n",
    "    sieve[0:2] = [False, False]\n",
    "    for i in range(2, int(n**0.5)+1):\n",
    "        if sieve[i]:\n",
    "            for j in range(i*i, n+1, i):\n",
    "                sieve[j] = False\n",
    "    return [str(i) for i, prime in enumerate(sieve) if prime]\n",
    "\n",
    "prime_str = \",\".join(primes_upto(1000))\n",
    "\n"
   ]
  },
  {
   "cell_type": "code",
   "execution_count": 2,
   "id": "13ec95a0",
   "metadata": {},
   "outputs": [],
   "source": [
    "\n",
    "# Step 2: HMAC-SHA256 with key = b\"1912\"\n",
    "digest = hmac.new(b\"1912\", prime_str.encode(), hashlib.sha256).hexdigest()\n",
    "\n",
    "# Step 3: build headers and payload\n",
    "headers = {\n",
    "    \"Content-Type\": \"application/json\",\n",
    "    \"X-API-Key\": digest,\n",
    "}\n",
    "\n"
   ]
  },
  {
   "cell_type": "code",
   "execution_count": 3,
   "id": "74e4f617",
   "metadata": {},
   "outputs": [
    {
     "data": {
      "text/plain": [
       "'2,3,5,7,11,13,17,19,23,29,31,37,41,43,47,53,59,61,67,71,73,79,83,89,97,101,103,107,109,113,127,131,137,139,149,151,157,163,167,173,179,181,191,193,197,199,211,223,227,229,233,239,241,251,257,263,269,271,277,281,283,293,307,311,313,317,331,337,347,349,353,359,367,373,379,383,389,397,401,409,419,421,431,433,439,443,449,457,461,463,467,479,487,491,499,503,509,521,523,541,547,557,563,569,571,577,587,593,599,601,607,613,617,619,631,641,643,647,653,659,661,673,677,683,691,701,709,719,727,733,739,743,751,757,761,769,773,787,797,809,811,821,823,827,829,839,853,857,859,863,877,881,883,887,907,911,919,929,937,941,947,953,967,971,977,983,991,997'"
      ]
     },
     "execution_count": 3,
     "metadata": {},
     "output_type": "execute_result"
    }
   ],
   "source": [
    "prime_str"
   ]
  },
  {
   "cell_type": "code",
   "execution_count": 4,
   "id": "8e353b5f",
   "metadata": {},
   "outputs": [
    {
     "name": "stdout",
     "output_type": "stream",
     "text": [
      "{'status': 'success', 'message': 'Application received!'}\n"
     ]
    }
   ],
   "source": [
    "\n",
    "\n",
    "data = {\n",
    "    \"name\": \"Alessandro Beatini\",\n",
    "    \"email\": \"alessandrobeatini@gmail.com\",\n",
    "    \"resume_link\": \"https://drive.google.com/file/d/1AG-qQr28ZOmGr3dIzujiIL5OxdjwwNaZ/view?usp=sharing\",\n",
    "    \"github_link\": \"https://github.com/NotAlessandroBeatini\",\n",
    "    \"linkedin_link\": \"https://www.linkedin.com/in/alessandro-beatini-240193193/\",\n",
    "    \"code\": \"\"\"\n",
    "\n",
    "import requests\n",
    "import hmac, hashlib\n",
    "\n",
    "# Step 1: generate primes up to 1000\n",
    "def primes_upto(n):\n",
    "    sieve = [True]*(n+1)\n",
    "    sieve[0:2] = [False, False]\n",
    "    for i in range(2, int(n**0.5)+1):\n",
    "        if sieve[i]:\n",
    "            for j in range(i*i, n+1, i):\n",
    "                sieve[j] = False\n",
    "    return [str(i) for i, prime in enumerate(sieve) if prime]\n",
    "prime_str = \",\".join(primes_upto(1000))\n",
    "\n",
    "# Step 2: HMAC-SHA256 with key = b\"1912\"\n",
    "digest = hmac.new(b\"1912\", prime_str.encode(), hashlib.sha256).hexdigest()\n",
    "\n",
    "# Step 3: build headers and payload\n",
    "headers = {\n",
    "    \"Content-Type\": \"application/json\",\n",
    "    \"X-API-Key\": digest,\n",
    "}\n",
    "\n",
    "    \"\"\"\n",
    "}\n",
    "\n",
    "url = \"https://relm-mktg.app.n8n.cloud/webhook/apply\"\n",
    "resp = requests.post(url, headers=headers, json=data)\n",
    "print(resp.json())\n"
   ]
  }
 ],
 "metadata": {
  "kernelspec": {
   "display_name": "agents",
   "language": "python",
   "name": "python3"
  },
  "language_info": {
   "codemirror_mode": {
    "name": "ipython",
    "version": 3
   },
   "file_extension": ".py",
   "mimetype": "text/x-python",
   "name": "python",
   "nbconvert_exporter": "python",
   "pygments_lexer": "ipython3",
   "version": "3.12.11"
  }
 },
 "nbformat": 4,
 "nbformat_minor": 5
}
